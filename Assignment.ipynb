{
  "cells": [
    {
      "cell_type": "markdown",
      "metadata": {},
      "source": [
        "<a href=\"https://colab.research.google.com/github/michalis0/DataScience_and_MachineLearning/blob/master/Assignements/Part%203/Assignment_part_three.ipynb\" target=\"_parent\"><img src=\"https://colab.research.google.com/assets/colab-badge.svg\" alt=\"Open In Colab\"/></a>"
      ]
    },
    {
      "cell_type": "markdown",
      "metadata": {
        "id": "kZu-7QbP9muh"
      },
      "source": [
        "DSML investigation:\n",
        "\n",
        "You are part of the Suisse Impossible Mission Force, or SIMF for short. You need to uncover a rogue agent that is trying to steal sensitive information.\n",
        "\n",
        "Your mission, should you choose to accept it, is to find that agent before stealing any classified information. Good luck!"
      ]
    },
    {
      "cell_type": "markdown",
      "metadata": {
        "id": "DyL7WNdV9sWV"
      },
      "source": [
        "# Assignement part three\n",
        "### Due 15.10.2023\n",
        "\n",
        "We received new intelligence informing us that the rogue agent has a position with great responsibility.\n",
        "Use the table \"HR_Analytics.csv\" to create a classifier model that predicts the job role of a person. Use this model to predict the roles of the table of suspects \"suspect_HR_data.csv\".\n",
        "\n",
        "Retain only the list of suspects whose role indicates high responsibility.\n",
        "\n",
        "\n",
        "## Getting to know our data\n",
        "\n",
        "- BusinessTravel: The frequency of business travel for the employee. (Categorical)\n",
        "- DailyRate: The daily rate of pay for the employee. (Numerical)\n",
        "- DistanceFromHome: The distance from home in miles for the employee. (Numerical)\n",
        "- Education: The level of education achieved by the employee. (Categorical)\n",
        "- EmployeeCount: The total number of employees in the organization. (Numerical)\n",
        "- EmployeeNumber: A unique identifier for each employee profile. (Numerical)\n",
        "- EnvironmentSatisfaction: The employee's satisfaction with their work environment. (Categorical)\n",
        "- Gender: The gender of the employee. (Categorical)\n",
        "- HourlyRate: The hourly rate of pay for the employee. (Numerical)\n",
        "- JobInvolvement: The level of involvement required for the employee's job. (Categorical)\n",
        "- JobLevel: The job level of the employee. (Categorical)\n",
        "- JobSatisfaction: The employee's satisfaction with their job. (Categorical)\n",
        "- MonthlyIncome: The monthly income of the employee. (Numerical)\n",
        "- MonthlyRate: The monthly rate of pay for the employee. (Numerical)\n",
        "- NumCompaniesWorked: The number of companies the employee has worked for. (Numerical)\n",
        "- Over18: Whether or not the employee is over 18. (Categorical)\n",
        "- OverTime: Whether or not the employee works overtime. (Categorical)\n",
        "- PercentSalaryHike: The percentage of salary hike for the employee. (Numerical)\n",
        "- PerformanceRating: The performance rating of the employee. (Categorical)\n",
        "- RelationshipSatisfaction: The employee's satisfaction with their relationships. (Categorical)\n",
        "- StandardHours: The standard hours of work for the employee. (Numerical)\n",
        "- StockOptionLevel: The stock option level of the employee. (Numerical)\n",
        "- TotalWorkingYears: The total number of years the employee has worked. (Numerical)\n",
        "- TrainingTimesLastYear: The number of times the employee was taken for training in the last year. (Numerical)\n",
        "- WorkLifeBalance: The employee's perception of their work-life balance. (Categorical)\n",
        "- YearsAtCompany: The number of years the employee has been with the company. (Numerical)\n",
        "- YearsInCurrentRole: The number of years the employee has been in their current role. (Numerical)\n",
        "- YearsSinceLastPromotion: The number of years since the employee's last promotion. (Numerical)\n",
        "- YearsWithCurrManager: The number of years the employee has been with their current manager. (Numerical)"
      ]
    },
    {
      "cell_type": "code",
      "execution_count": 1,
      "metadata": {
        "id": "XHhI95r5-tyD"
      },
      "outputs": [],
      "source": [
        "# Import required packages\n",
        "import  numpy as np\n",
        "import pandas as pd\n",
        "import matplotlib.pyplot as plt\n",
        "from sklearn.preprocessing import LabelEncoder, OneHotEncoder\n",
        "from sklearn.linear_model import LogisticRegression, LogisticRegressionCV\n",
        "from sklearn.tree import DecisionTreeClassifier\n",
        "from sklearn.model_selection import train_test_split\n",
        "from sklearn.metrics import confusion_matrix, accuracy_score, precision_score, recall_score, f1_score\n",
        "%matplotlib inline\n",
        "\n",
        "df = pd.read_csv(\"https://raw.githubusercontent.com/kotaro27/assignment/main/HR_Analytics.csv\", index_col='Unnamed: 0')\n",
        "suspects = pd.read_csv(\"https://raw.githubusercontent.com/kotaro27/assignment/main/suspects.csv\", index_col='Unnamed: 0')\n"
      ]
    },
    {
      "cell_type": "markdown",
      "metadata": {
        "id": "mg11L0cJfVM-"
      },
      "source": [
        "### Let's check the data\n"
      ]
    },
    {
      "cell_type": "code",
      "execution_count": 2,
      "metadata": {
        "colab": {
          "base_uri": "https://localhost:8080/"
        },
        "id": "N0ri776pfc3j",
        "outputId": "2b729cfc-24b5-410a-ec2d-bb922dabb66e"
      },
      "outputs": [
        {
          "name": "stdout",
          "output_type": "stream",
          "text": [
            "<class 'pandas.core.frame.DataFrame'>\n",
            "Index: 1470 entries, 0 to 1469\n",
            "Data columns (total 28 columns):\n",
            " #   Column                    Non-Null Count  Dtype \n",
            "---  ------                    --------------  ----- \n",
            " 0   BusinessTravel            1470 non-null   object\n",
            " 1   DailyRate                 1470 non-null   int64 \n",
            " 2   DistanceFromHome          1470 non-null   int64 \n",
            " 3   Education                 1470 non-null   int64 \n",
            " 4   EmployeeCount             1470 non-null   int64 \n",
            " 5   EmployeeNumber            1470 non-null   int64 \n",
            " 6   EnvironmentSatisfaction   1470 non-null   int64 \n",
            " 7   Gender                    1470 non-null   object\n",
            " 8   HourlyRate                1470 non-null   int64 \n",
            " 9   JobInvolvement            1470 non-null   int64 \n",
            " 10  JobLevel                  1470 non-null   int64 \n",
            " 11  JobSatisfaction           1470 non-null   int64 \n",
            " 12  MonthlyIncome             1470 non-null   int64 \n",
            " 13  MonthlyRate               1470 non-null   int64 \n",
            " 14  NumCompaniesWorked        1470 non-null   int64 \n",
            " 15  OverTime                  1470 non-null   object\n",
            " 16  PercentSalaryHike         1470 non-null   int64 \n",
            " 17  PerformanceRating         1470 non-null   int64 \n",
            " 18  RelationshipSatisfaction  1470 non-null   int64 \n",
            " 19  StandardHours             1470 non-null   int64 \n",
            " 20  StockOptionLevel          1470 non-null   int64 \n",
            " 21  TotalWorkingYears         1470 non-null   int64 \n",
            " 22  TrainingTimesLastYear     1470 non-null   int64 \n",
            " 23  WorkLifeBalance           1470 non-null   int64 \n",
            " 24  YearsAtCompany            1470 non-null   int64 \n",
            " 25  YearsInCurrentRole        1470 non-null   int64 \n",
            " 26  YearsSinceLastPromotion   1470 non-null   int64 \n",
            " 27  YearsWithCurrManager      1470 non-null   int64 \n",
            "dtypes: int64(25), object(3)\n",
            "memory usage: 333.0+ KB\n"
          ]
        }
      ],
      "source": [
        "df.info()"
      ]
    },
    {
      "cell_type": "markdown",
      "metadata": {
        "id": "igq5I7pOm0SW"
      },
      "source": [
        "## 1. Define a pipeline that encodes features as follows:\n",
        "\n",
        "* Use one-hot encoding for `BusinessTravel`\n",
        "* Use label encoding for `Gender` and `OverTime`\n"
      ]
    },
    {
      "cell_type": "code",
      "execution_count": 3,
      "metadata": {
        "colab": {
          "base_uri": "https://localhost:8080/",
          "height": 111
        },
        "id": "LV87NptOASo6",
        "outputId": "af8079be-c51b-4ca6-88f1-2e3da0b2f446"
      },
      "outputs": [],
      "source": [
        "def pipeline(train:pd.DataFrame, test:pd.DataFrame):\n",
        "\n",
        "    # Apply OneHotEncoding over the BusinessTravel feature fitted on the train dataset and transform on both the train and the test dataset\n",
        "\n",
        "    # Apply a Label Encoder over the Gender feature fitted on the train dataset and transform on both the train and the test dataset\n",
        "\n",
        "    # Apply a Label Encoder over the Overtime feature fitted on the train dataset and transform on both the train and the test dataset\n",
        "\n",
        "\n",
        "    # concat the datasets\n",
        "\n",
        "\n",
        "    # Apply a min max scaller fitted on the train dataset and transform both the train and the test dataset\n",
        "\n",
        "    \n",
        "\n",
        "\n",
        "    return df_train, df_test\n",
        "\n",
        "\n",
        "\n"
      ]
    },
    {
      "cell_type": "markdown",
      "metadata": {},
      "source": [
        "### 1.1 Define your dependent variable y (\"JobLevel\") and your independent features X"
      ]
    },
    {
      "cell_type": "code",
      "execution_count": 4,
      "metadata": {},
      "outputs": [],
      "source": [
        "# Your code here"
      ]
    },
    {
      "cell_type": "markdown",
      "metadata": {
        "id": "tX1tEH1j0g3R"
      },
      "source": [
        "## 2. Logistic Regression\n",
        "\n",
        "In this section we will use logistic regression to predict the JobLevel of the potential suspects.\n",
        "\n",
        "To do so you can reuse the pipeline created in part 1."
      ]
    },
    {
      "cell_type": "markdown",
      "metadata": {
        "id": "9B35IqVj0gL3"
      },
      "source": [
        "#### 2.1 Use logistic regression to predict the `JobLevel` based on all variables over the test set. \n",
        "You can use a test_size of 0.2 and random a random state of 42\n",
        "(use logistic regression with the lbfgs solver, 5 fold cross validation and max_iter = 100)\n",
        "\n",
        "Use only the HR analytics dataset to collect accurate insight on the model"
      ]
    },
    {
      "cell_type": "code",
      "execution_count": 5,
      "metadata": {
        "id": "Fiex4f6y0rvD"
      },
      "outputs": [],
      "source": [
        "# Your code here"
      ]
    },
    {
      "cell_type": "code",
      "execution_count": null,
      "metadata": {},
      "outputs": [],
      "source": []
    },
    {
      "cell_type": "code",
      "execution_count": null,
      "metadata": {},
      "outputs": [],
      "source": []
    },
    {
      "cell_type": "markdown",
      "metadata": {},
      "source": [
        "#### 2.1.2 Display the confusion matrix and the other accuracy measures seen in class.\n"
      ]
    },
    {
      "cell_type": "code",
      "execution_count": 6,
      "metadata": {},
      "outputs": [],
      "source": [
        "# Your code here"
      ]
    },
    {
      "cell_type": "code",
      "execution_count": null,
      "metadata": {},
      "outputs": [],
      "source": []
    },
    {
      "cell_type": "code",
      "execution_count": null,
      "metadata": {},
      "outputs": [],
      "source": []
    },
    {
      "cell_type": "markdown",
      "metadata": {
        "id": "lZLOtpFN6UzN"
      },
      "source": [
        "#### 2.2 Predicting suspects Job Level\n",
        "Retrain a logistic regression model on the **full train dataset** and predict the JobLevel of the suspects. (do not forget to apply the pipeline)\n",
        "\n",
        "Training on part of the dataset is mainly usefull so that we get an idea of the results we should expect but also performing various optimisations.\n",
        "\n",
        "In order to get the best result possible it is advised to retrain on the entire set prior to making predictions.\n",
        "\n",
        "(use logistic regression with the lbfgs solver, 5 fold cross validation and max_iter = 100)"
      ]
    },
    {
      "cell_type": "code",
      "execution_count": 7,
      "metadata": {
        "id": "EWFqT4LLGYnL"
      },
      "outputs": [],
      "source": [
        "# Your code here\n"
      ]
    },
    {
      "cell_type": "code",
      "execution_count": null,
      "metadata": {
        "id": "M1AUaZVVGgc0"
      },
      "outputs": [],
      "source": [
        "\n"
      ]
    },
    {
      "cell_type": "code",
      "execution_count": null,
      "metadata": {
        "colab": {
          "base_uri": "https://localhost:8080/"
        },
        "id": "eLvdBAyRGmlf",
        "outputId": "ac3cd035-9fc9-47d6-a312-dce00d298192"
      },
      "outputs": [],
      "source": []
    },
    {
      "cell_type": "markdown",
      "metadata": {
        "id": "p3aZt3WmEADO"
      },
      "source": [
        "## 3. Decision tree\n",
        "\n",
        "In this section we will use the decision tree model to predict the JobLevel of the potential suspects.\n",
        "\n",
        "To do so you can reuse the pipeline created in part 1."
      ]
    },
    {
      "cell_type": "markdown",
      "metadata": {
        "id": "6ftteDGoEnSH"
      },
      "source": [
        "#### 3.1 Use Decision Tree classifier to predict the JobLevel based on all variables. Display the confusion matrix and the other accuracy measures seen in class.\n",
        "You can use a test_size of 0.2 and random a random state of 42\n",
        "\n",
        "The max depth for the decision tree can be 5\n",
        "\n",
        "\n",
        "Use only the HR analytics dataset to collect accurate insight on the model"
      ]
    },
    {
      "cell_type": "code",
      "execution_count": 8,
      "metadata": {
        "id": "SF2_J7iAGdwW"
      },
      "outputs": [],
      "source": [
        "# Your code here"
      ]
    },
    {
      "cell_type": "code",
      "execution_count": null,
      "metadata": {
        "id": "9jZxj5KFGhOi"
      },
      "outputs": [],
      "source": [
        "\n"
      ]
    },
    {
      "cell_type": "code",
      "execution_count": null,
      "metadata": {
        "id": "JdPakTjxGoSf"
      },
      "outputs": [],
      "source": []
    },
    {
      "cell_type": "code",
      "execution_count": null,
      "metadata": {
        "colab": {
          "base_uri": "https://localhost:8080/",
          "height": 74
        },
        "id": "h0yvnp5kG7gL",
        "outputId": "c214442b-e40b-4720-e22b-b0c973e05413"
      },
      "outputs": [],
      "source": []
    },
    {
      "cell_type": "markdown",
      "metadata": {},
      "source": [
        "#### 3.1.2 Display the confusion matrix and the other accuracy measures seen in class.\n"
      ]
    },
    {
      "cell_type": "code",
      "execution_count": 9,
      "metadata": {
        "colab": {
          "base_uri": "https://localhost:8080/"
        },
        "id": "HBoU-eWcImA6",
        "outputId": "09772bec-901f-43fd-92a5-7d0003606ad0"
      },
      "outputs": [],
      "source": [
        "# Your code here\n"
      ]
    },
    {
      "cell_type": "code",
      "execution_count": null,
      "metadata": {
        "colab": {
          "base_uri": "https://localhost:8080/"
        },
        "id": "9yWTbfrsIq73",
        "outputId": "e3e21cf7-a529-4097-ec53-a25d577f0132"
      },
      "outputs": [],
      "source": [
        "\n"
      ]
    },
    {
      "cell_type": "code",
      "execution_count": null,
      "metadata": {
        "colab": {
          "base_uri": "https://localhost:8080/"
        },
        "id": "wcnzdNuRIxZr",
        "outputId": "573973fa-171d-4ad0-b771-3be3b4ec157e"
      },
      "outputs": [],
      "source": [
        "\n",
        "\n"
      ]
    },
    {
      "cell_type": "markdown",
      "metadata": {
        "id": "KtdHTSOfJZhf"
      },
      "source": [
        "#### 3.2 Predicting suspects Job Level according to the decision tree\n",
        "Retrain a decision tree model on the full train dataset and predict the JobLevel of the suspects. \n",
        "\n",
        "Training on part of the dataset is mainly usefull so that we get an idea of the results we should expect but also performing various optimisations.\n",
        "\n",
        "In order to get the best result possible it is advised to retrain on the entire set prior to making predictions.\n",
        "\n",
        "The max depth for the decision tree can be 5"
      ]
    },
    {
      "cell_type": "code",
      "execution_count": 10,
      "metadata": {
        "colab": {
          "base_uri": "https://localhost:8080/",
          "height": 74
        },
        "id": "lK6R3NyIJj9T",
        "outputId": "72d4fbac-57d3-48d2-a59a-301168fcf127"
      },
      "outputs": [],
      "source": [
        "# Your code here\n",
        "\n"
      ]
    },
    {
      "cell_type": "code",
      "execution_count": null,
      "metadata": {
        "colab": {
          "base_uri": "https://localhost:8080/"
        },
        "id": "A2q6DRAgJn87",
        "outputId": "2f46358e-8a38-46e2-e89f-3d990919a4a4"
      },
      "outputs": [],
      "source": [
        "\n"
      ]
    },
    {
      "cell_type": "markdown",
      "metadata": {},
      "source": [
        "## 4. kNN\n",
        "\n",
        "In this section we will use the kNN model to predict the JobLevel of the potential suspects.\n",
        "\n",
        "To do so you can reuse the DataFrame created in part 1."
      ]
    },
    {
      "cell_type": "markdown",
      "metadata": {},
      "source": [
        "#### 4.1. Use `GridSearchCV` from *sklearn.model_selection* to find the best value of `k` that should be used for the K-Nearest Neighbours (KNN) algorithm.\n",
        "\n",
        "\n",
        "*   Use a range value of hyperparmeter `k` from 1 to 8. This range is a parameter used by the `GridSearchCV` to define the best value of `k`.\n",
        "*   Set the cross-validation to 5 folds.\n",
        "*   Set `scoring='accuracy', 'return_train_score=False', verbose=1"
      ]
    },
    {
      "cell_type": "code",
      "execution_count": 11,
      "metadata": {},
      "outputs": [],
      "source": [
        "# Train test split\n"
      ]
    },
    {
      "cell_type": "code",
      "execution_count": 12,
      "metadata": {},
      "outputs": [],
      "source": [
        "# YOUR CODE HERE\n",
        "\n"
      ]
    },
    {
      "cell_type": "code",
      "execution_count": 13,
      "metadata": {},
      "outputs": [],
      "source": [
        "# Find the best parameters\n"
      ]
    },
    {
      "cell_type": "code",
      "execution_count": 14,
      "metadata": {},
      "outputs": [],
      "source": [
        "# What is the best score?"
      ]
    },
    {
      "cell_type": "code",
      "execution_count": 15,
      "metadata": {},
      "outputs": [],
      "source": [
        "# Evaluate the model"
      ]
    },
    {
      "cell_type": "markdown",
      "metadata": {
        "id": "1bIigoLxKYHZ"
      },
      "source": [
        "## 5. Remaining suspects\n",
        "\n",
        "In this section we will identify the potential suspects  according to our new intelligence.\n",
        "\n",
        "Identify which users have a JobRole of 4 or higher on **both** the **Linear regression** model and the **Decision Tree**"
      ]
    },
    {
      "cell_type": "code",
      "execution_count": 16,
      "metadata": {},
      "outputs": [],
      "source": [
        "# Your code here\n"
      ]
    }
  ],
  "metadata": {
    "colab": {
      "provenance": []
    },
    "kernelspec": {
      "display_name": "Python 3",
      "name": "python3"
    },
    "language_info": {
      "codemirror_mode": {
        "name": "ipython",
        "version": 3
      },
      "file_extension": ".py",
      "mimetype": "text/x-python",
      "name": "python",
      "nbconvert_exporter": "python",
      "pygments_lexer": "ipython3",
      "version": "3.9.6"
    }
  },
  "nbformat": 4,
  "nbformat_minor": 0
}
